{
 "cells": [
  {
   "cell_type": "markdown",
   "source": [
    "# Przetwarzanie sygnałów i obrazów: Sprawozdanie 004\n"
   ],
   "metadata": {
    "collapsed": false
   }
  },
  {
   "cell_type": "markdown",
   "source": [
    "### Temat: Analiza widmowa sygnałów.\n",
    "### Imię i nazwisko studenta: Paweł Niewiarowski, Szymon Łupiński\n",
    "### Data realizacji ćwiczenia: 16.11.2022"
   ],
   "metadata": {
    "collapsed": false
   }
  },
  {
   "cell_type": "code",
   "execution_count": 2,
   "outputs": [],
   "source": [
    "from matplotlib import pyplot\n",
    "import numpy as np\n",
    "import scipy\n"
   ],
   "metadata": {
    "collapsed": false
   }
  },
  {
   "cell_type": "markdown",
   "source": [
    "## Zadanie 4.1\n",
    "Wygenerować/nagrać następujące sygnały (dł. 3s każdy, tempo próbkowania fs = 8kHz):\n",
    "- szum gaussowski\n",
    "- sygnał sinusoidalny o stałej częstotliwości 1kHz\n",
    "- sygnał o zmiennej częstotliwości w zakresie od 0Hz (0s) do 1kHz (5s) (patrz funkcja chirp)\n",
    "- sygnał mowy\n",
    "\n",
    "Następnie, dla każdego z sygnałów wykreślić obwiednię mocy w czasie (dla uzyskania lepszej przejrzystości zamiast funkcji stem można użyć funkcji plot).\n",
    "W celu oszacowania mocy sygnału w czasie Px[n] zastosować uśrednianie wykładnicze/rekursywne, zgodnie ze wzorem: Px[n] = αPx[n-1] + (1-α)x[n]^2,\n",
    "gdzie x[n] - n-ta próbka sygnału oraz 0<α<1 parametr uśredniający.\n",
    "\n",
    "Sprawdzić, jaki wpływ na obwiednię mocy ma dobór parametru alfa?\n",
    "\n",
    "Comożesz powiedzieć o stacjonarności sygnałów na podstawie kształtu obwiedni?\n"
   ],
   "metadata": {
    "collapsed": false
   }
  },
  {
   "cell_type": "code",
   "execution_count": null,
   "outputs": [],
   "source": [],
   "metadata": {
    "collapsed": false,
    "pycharm": {
     "is_executing": true
    }
   }
  },
  {
   "cell_type": "markdown",
   "source": [
    "## Zadanie 4.2\n",
    "Wygenerować następujące sygnały z amplitudą jednostkową i częstotliwością 1 kHz oraz czasie trwania 2 sekund:\n",
    "- sygnał sinusoidalny\n",
    "- sygnał prostokątny\n",
    "- sygnał trójkątny\n",
    "- sygnał piłokształtny\n",
    "- szum gaussowski\n",
    "- sygnał sinusoidalny o przestrajanej częstotliwości od 1 kHz do 2 kHz\n",
    "\n",
    "Dodatkowo wczytać sygnał mowy oraz sygnał muzyki. Rekomendowana częstotliwość próbkowania to 16 kHz dla sygnałów syntetycznych, 8 kHz dla sygnału mowy, 44.1 lub 48 kHz dla sygnału muzyki.\n",
    "\n",
    "- a) wykreślić wygenerowane sygnały w dziedzinie czasu (skalę czasu na wykresach\n",
    "dobrać tak, aby zmaksymalizować ich czytelność),\n",
    "\n",
    "- b) wykonać analizę widmową sygnałów korzystając używając periodogramów.\n",
    "Sporządzić wykresy w skali decybelowej. Oś pozioma powinna reprezentować\n",
    "częstotliwość w Hz.\n"
   ],
   "metadata": {
    "collapsed": false
   }
  },
  {
   "cell_type": "code",
   "execution_count": null,
   "outputs": [],
   "source": [],
   "metadata": {
    "collapsed": false
   }
  },
  {
   "cell_type": "markdown",
   "source": [
    "## Zadanie 4.3\n",
    "Dokonać ponownej analizy sygnałów z zadania poprzedniego w dziedzinie częstotliwości przy użyciu spektrogramów. Użyć funkcji spectrogram lub analogicznej (okno Hamminga o długości 1024 próbek). Zwróć uwagę na to, by osie wykresu były opisane przy użyciu jednostek fizycznych (a nie znormalizowanych).\n",
    "\n",
    "Co możesz powiedzieć o rozkładzie energii w czasie i częstotliwości analizowanych sygnałów?\n"
   ],
   "metadata": {
    "collapsed": false
   }
  },
  {
   "cell_type": "code",
   "execution_count": null,
   "outputs": [],
   "source": [],
   "metadata": {
    "collapsed": false,
    "pycharm": {
     "is_executing": true
    }
   }
  },
  {
   "cell_type": "markdown",
   "source": [
    "## Zadanie 4.4\n",
    "Ponownie wygenerować spektrogramy dla sygnałów z zadania 4.2 z użyciem melowej skali częstotliwości (tzw. Mel-spektrogramy). Porównać wyniki ze spekrogramami z zadania\n",
    "poprzedniego.\n",
    "\n",
    "Co możesz powiedzieć o rozdzielczości spektrogramów dla małych częstotliwości?"
   ],
   "metadata": {
    "collapsed": false
   }
  },
  {
   "cell_type": "markdown",
   "source": [],
   "metadata": {
    "collapsed": false
   }
  }
 ],
 "metadata": {
  "kernelspec": {
   "display_name": "Python 3",
   "language": "python",
   "name": "python3"
  },
  "language_info": {
   "codemirror_mode": {
    "name": "ipython",
    "version": 2
   },
   "file_extension": ".py",
   "mimetype": "text/x-python",
   "name": "python",
   "nbconvert_exporter": "python",
   "pygments_lexer": "ipython2",
   "version": "2.7.6"
  }
 },
 "nbformat": 4,
 "nbformat_minor": 0
}
